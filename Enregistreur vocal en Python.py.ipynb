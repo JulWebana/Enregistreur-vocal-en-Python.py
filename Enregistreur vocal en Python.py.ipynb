{
 "cells": [
  {
   "cell_type": "markdown",
   "id": "d361099e",
   "metadata": {},
   "source": [
    "Sounddevice : Ce module fournit des fonctions pour lire et enregistrer des tableaux NumPy contenant des signaux audio.\n",
    "Nous pouvons utiliser scipy pour sauvegarder l'audio enregistré dans un format de fichier.\n",
    "\n",
    "* pip install sounddevice\n",
    "* pip install scipy"
   ]
  },
  {
   "cell_type": "code",
   "execution_count": 1,
   "id": "3463ae3d",
   "metadata": {},
   "outputs": [
    {
     "name": "stdout",
     "output_type": "stream",
     "text": [
      "Entrez la durée d'enregistrement en secondes :  10\n",
      "Enregistrement....\n",
      "\n",
      "L'enregistrement est terminé et sauvegardé dans vos fichiers. \n",
      "\n",
      "Pour l'écouter, veuillez vous rendre dans vos dossiers.\n"
     ]
    }
   ],
   "source": [
    "# Importer les modules nécessaires\n",
    "import sounddevice\n",
    "from scipy.io.wavfile import write\n",
    "\n",
    "fs=44100\n",
    "\n",
    "# Demande de saisie de la durée de l'enregistrement\n",
    "second=int (input (\"Entrez la durée d'enregistrement en secondes :  \"))\n",
    "\n",
    "print(\"Enregistrement....\\n\")\n",
    "            \n",
    "record_voice=sounddevice.rec(int(second*fs),samplerate=fs,channels=2)\n",
    "sounddevice.wait()\n",
    "            \n",
    "write(\"MonEnregistrement.wav\",fs,record_voice)\n",
    "\n",
    "print (\"L'enregistrement est terminé et sauvegardé dans vos fichiers. \\n\")\n",
    "print (\"Pour l'écouter, veuillez vous rendre dans vos dossiers.\")"
   ]
  },
  {
   "cell_type": "code",
   "execution_count": null,
   "id": "146ca3fb",
   "metadata": {},
   "outputs": [],
   "source": []
  }
 ],
 "metadata": {
  "kernelspec": {
   "display_name": "Python 3 (ipykernel)",
   "language": "python",
   "name": "python3"
  },
  "language_info": {
   "codemirror_mode": {
    "name": "ipython",
    "version": 3
   },
   "file_extension": ".py",
   "mimetype": "text/x-python",
   "name": "python",
   "nbconvert_exporter": "python",
   "pygments_lexer": "ipython3",
   "version": "3.9.7"
  }
 },
 "nbformat": 4,
 "nbformat_minor": 5
}
